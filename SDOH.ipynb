{
  "nbformat": 4,
  "nbformat_minor": 0,
  "metadata": {
    "colab": {
      "provenance": [],
      "authorship_tag": "ABX9TyOLyNzN2WqUgBpTGMhVilT+",
      "include_colab_link": true
    },
    "kernelspec": {
      "name": "python3",
      "display_name": "Python 3"
    },
    "language_info": {
      "name": "python"
    }
  },
  "cells": [
    {
      "cell_type": "markdown",
      "metadata": {
        "id": "view-in-github",
        "colab_type": "text"
      },
      "source": [
        "<a href=\"https://colab.research.google.com/github/jacob-umich/stats-dash/blob/eda/SDOH.ipynb\" target=\"_parent\"><img src=\"https://colab.research.google.com/assets/colab-badge.svg\" alt=\"Open In Colab\"/></a>"
      ]
    },
    {
      "cell_type": "code",
      "execution_count": 105,
      "metadata": {
        "colab": {
          "base_uri": "https://localhost:8080/"
        },
        "id": "kQTz8orJdzoQ",
        "outputId": "694dee64-6209-4610-bc9c-f905c1f13a1f"
      },
      "outputs": [
        {
          "output_type": "stream",
          "name": "stdout",
          "text": [
            "Index(['YearStart', 'YearEnd', 'LocationAbbr', 'LocationDesc', 'DataSource',\n",
            "       'Topic', 'Question', 'Response', 'DataValueUnit', 'DataValueType',\n",
            "       'DataValue', 'DataValueAlt', 'DataValueFootnoteSymbol',\n",
            "       'DataValueFootnote', 'LowConfidenceLimit', 'HighConfidenceLimit',\n",
            "       'StratificationCategory1', 'Stratification1', 'StratificationCategory2',\n",
            "       'Stratification2', 'StratificationCategory3', 'Stratification3',\n",
            "       'Geolocation', 'LocationID', 'TopicID', 'QuestionID', 'ResponseID',\n",
            "       'DataValueTypeID', 'StratificationCategoryID1', 'StratificationID1',\n",
            "       'StratificationCategoryID2', 'StratificationID2',\n",
            "       'StratificationCategoryID3', 'StratificationID3'],\n",
            "      dtype='object')\n"
          ]
        }
      ],
      "source": [
        "import pandas as pd\n",
        "df = pd.read_csv('CDI_Data.csv')\n",
        "\n",
        "us_states = [\n",
        "    'Alabama', 'Alaska', 'Arizona', 'Arkansas', 'California', 'Colorado', 'Connecticut', 'Delaware', 'District of Columbia', 'Florida',\n",
        "    'Georgia', 'Hawaii', 'Idaho', 'Illinois', 'Indiana', 'Iowa', 'Kansas', 'Kentucky', 'Louisiana', 'Maine',\n",
        "    'Maryland', 'Massachusetts', 'Michigan', 'Minnesota', 'Mississippi', 'Missouri', 'Montana', 'Nebraska',\n",
        "    'Nevada', 'New Hampshire', 'New Jersey', 'New Mexico', 'New York', 'North Carolina', 'North Dakota', 'Ohio',\n",
        "    'Oklahoma', 'Oregon', 'Pennsylvania', 'Rhode Island', 'South Carolina', 'South Dakota', 'Tennessee', 'Texas',\n",
        "    'Utah', 'Vermont', 'Virginia', 'Washington', 'West Virginia', 'Wisconsin', 'Wyoming'\n",
        "]\n",
        "\n",
        "df = df[df['LocationDesc'].isin(us_states)]\n",
        "print(df.columns)"
      ]
    },
    {
      "cell_type": "code",
      "source": [
        "data_sources = df['Topic']\n",
        "print(data_sources.unique())"
      ],
      "metadata": {
        "colab": {
          "base_uri": "https://localhost:8080/"
        },
        "id": "iEmZAMIWfXxE",
        "outputId": "77e6b112-7413-4963-d70c-47f1676ce37f"
      },
      "execution_count": 98,
      "outputs": [
        {
          "output_type": "stream",
          "name": "stdout",
          "text": [
            "['Disability' 'Diabetes' 'Health Status' 'Arthritis' 'Asthma' 'Sleep'\n",
            " 'Mental Health' 'Cardiovascular Disease' 'Cancer' 'Tobacco' 'Oral Health'\n",
            " 'Nutrition, Physical Activity, and Weight Status'\n",
            " 'Chronic Obstructive Pulmonary Disease' 'Alcohol'\n",
            " 'Social Determinants of Health' 'Cognitive Health and Caregiving'\n",
            " 'Immunization' 'Maternal Health' 'Chronic Kidney Disease']\n"
          ]
        }
      ]
    },
    {
      "cell_type": "code",
      "source": [
        "social_determinants_df = df[df['Topic'] == 'Social Determinants of Health']\n",
        "print(social_determinants_df['Question'].unique())\n",
        "print(\"Number of unique questions under 'Social Determinants of Health':\", social_determinants_df['Question'].nunique())"
      ],
      "metadata": {
        "colab": {
          "base_uri": "https://localhost:8080/"
        },
        "id": "3DAKLcDCg481",
        "outputId": "5cadeeaf-a73a-422a-ea41-ee15a62cb147"
      },
      "execution_count": 120,
      "outputs": [
        {
          "output_type": "stream",
          "name": "stdout",
          "text": [
            "['Lack of health insurance among adults aged 18-64 years'\n",
            " 'Unemployment rate among people 16 years and older in the labor force'\n",
            " 'Routine checkup within the past year among adults'\n",
            " 'Health insurance coverage after pregnancy among women with a recent live birth'\n",
            " 'High school completion among adults aged 18-24'\n",
            " 'Health insurance coverage in the month before pregnancy among women with a recent live birth'\n",
            " 'Living below 150% of the poverty threshold among all people'\n",
            " 'No broadband internet subscription among households'\n",
            " 'Food insecure in the past 12 months among households'\n",
            " 'Lack of reliable transportation in the past 12 months among adults'\n",
            " 'Lack of social and emotional support needed among adults'\n",
            " 'Unable to pay mortgage, rent, or utility bills in the past 12 months among adults']\n",
            "Number of unique questions under 'Social Determinants of Health': 12\n"
          ]
        }
      ]
    },
    {
      "cell_type": "code",
      "source": [
        "conditions = (df['Topic'] == 'Social Determinants of Health') & \\\n",
        "              (df['YearStart'] == 2019) & \\\n",
        "              (df['Question'] == 'Lack of health insurance among adults aged 18-64 years') & \\\n",
        "              (df['DataValueType'] == 'Crude Prevalence') & \\\n",
        "              (df['StratificationCategory1'] == 'Overall')\n",
        "\n",
        "filtered_df = df.loc[conditions, ['YearStart', 'LocationDesc', 'Question', 'DataValue', 'StratificationCategory1']]\n",
        "health_ins_df = filtered_df.sort_values(by='DataValue').nlargest(5, 'DataValue')"
      ],
      "metadata": {
        "id": "cSaqawWozzex"
      },
      "execution_count": 141,
      "outputs": []
    },
    {
      "cell_type": "markdown",
      "source": [
        "Note: This data is taken from 2022 (all other datasets taken from 2019, consider removing)"
      ],
      "metadata": {
        "id": "efjQ1eT1zycL"
      }
    },
    {
      "cell_type": "code",
      "source": [
        "conditions = (df['Topic'] == 'Social Determinants of Health') & \\\n",
        "              (df['YearStart'] == 2022) & \\\n",
        "              (df['Question'] == 'Unable to pay mortgage, rent, or utility bills in the past 12 months among adults') & \\\n",
        "              (df['DataValueType'] == 'Crude Prevalence') & \\\n",
        "              (df['StratificationCategory1'] == 'Overall')\n",
        "\n",
        "filtered_df = df.loc[conditions, ['YearStart', 'LocationDesc', 'Question', 'DataValue', 'StratificationCategory1']]\n",
        "rent_df = filtered_df.sort_values(by='DataValue').nlargest(5, 'DataValue')"
      ],
      "metadata": {
        "id": "k6TTX_SVy3ae"
      },
      "execution_count": 131,
      "outputs": []
    },
    {
      "cell_type": "markdown",
      "source": [
        "Note: This data is taken from 2022 (all other datasets taken from 2019, consider removing)"
      ],
      "metadata": {
        "id": "slu4Yqazzxc8"
      }
    },
    {
      "cell_type": "code",
      "source": [
        "conditions = (df['Topic'] == 'Social Determinants of Health') & \\\n",
        "              (df['YearStart'] == 2022) & \\\n",
        "              (df['Question'] == 'Lack of social and emotional support needed among adults') & \\\n",
        "              (df['DataValueType'] == 'Crude Prevalence') & \\\n",
        "              (df['StratificationCategory1'] == 'Overall')\n",
        "\n",
        "filtered_df = df.loc[conditions, ['YearStart', 'LocationDesc', 'Question', 'DataValue', 'StratificationCategory1']]\n",
        "support_df = filtered_df.sort_values(by='DataValue').nlargest(5, 'DataValue')"
      ],
      "metadata": {
        "id": "KOT02I0IykVd"
      },
      "execution_count": 146,
      "outputs": []
    },
    {
      "cell_type": "markdown",
      "source": [
        "Note: This data is taken from 2022 (all other datasets taken from 2019, consider removing)"
      ],
      "metadata": {
        "id": "hxoHKQPQxxml"
      }
    },
    {
      "cell_type": "code",
      "source": [
        "conditions = (df['Topic'] == 'Social Determinants of Health') & \\\n",
        "              (df['YearStart'] == 2022) & \\\n",
        "              (df['Question'] == 'Lack of reliable transportation in the past 12 months among adults') & \\\n",
        "              (df['DataValueType'] == 'Crude Prevalence') & \\\n",
        "              (df['StratificationCategory1'] == 'Overall')\n",
        "\n",
        "filtered_df = df.loc[conditions, ['YearStart', 'LocationDesc', 'Question', 'DataValue', 'StratificationCategory1']]\n",
        "transportation_df = filtered_df.sort_values(by='DataValue').nlargest(5, 'DataValue')"
      ],
      "metadata": {
        "id": "7iLwAKeHv4g3"
      },
      "execution_count": 128,
      "outputs": []
    },
    {
      "cell_type": "code",
      "source": [
        "conditions = (df['Topic'] == 'Social Determinants of Health') & \\\n",
        "              (df['YearStart'] == 2019) & \\\n",
        "              (df['Question'] == 'Food insecure in the past 12 months among households') & \\\n",
        "              (df['DataValueType'] == 'Crude Prevalence') & \\\n",
        "              (df['StratificationCategory1'] == 'Overall')\n",
        "\n",
        "filtered_df = df.loc[conditions, ['YearStart', 'LocationDesc', 'Question', 'DataValue', 'StratificationCategory1']]\n",
        "insecure_df = filtered_df.sort_values(by='DataValue').nlargest(5, 'DataValue')"
      ],
      "metadata": {
        "id": "XegRm-5AvF8K"
      },
      "execution_count": 140,
      "outputs": []
    },
    {
      "cell_type": "code",
      "source": [
        "conditions = (df['Topic'] == 'Social Determinants of Health') & \\\n",
        "              (df['YearStart'] == 2019) & \\\n",
        "              (df['Question'] == 'No broadband internet subscription among households') & \\\n",
        "              (df['DataValueType'] == 'Crude Prevalence') & \\\n",
        "              (df['StratificationCategory1'] == 'Overall')\n",
        "\n",
        "filtered_df = df.loc[conditions, ['YearStart', 'LocationDesc', 'Question', 'DataValue', 'StratificationCategory1']]\n",
        "internet_df = filtered_df.sort_values(by='DataValue').nlargest(5, 'DataValue')"
      ],
      "metadata": {
        "id": "HCXHR_dxuK_s"
      },
      "execution_count": 139,
      "outputs": []
    },
    {
      "cell_type": "code",
      "source": [
        "conditions = (df['Topic'] == 'Social Determinants of Health') & \\\n",
        "              (df['YearStart'] == 2019) & \\\n",
        "              (df['Question'] == 'Health insurance coverage in the month before pregnancy among women with a recent live birth') & \\\n",
        "              (df['DataValueType'] == 'Crude Prevalence') & \\\n",
        "              (df['StratificationCategory1'] == 'Overall')\n",
        "\n",
        "filtered_df = df.loc[conditions, ['YearStart', 'LocationDesc', 'Question', 'DataValue', 'StratificationCategory1']]\n",
        "live_birth_df = filtered_df.sort_values(by='DataValue').nsmallest(5, 'DataValue')"
      ],
      "metadata": {
        "id": "OOvettRrsVxN"
      },
      "execution_count": 138,
      "outputs": []
    },
    {
      "cell_type": "code",
      "source": [
        "conditions = (df['Topic'] == 'Social Determinants of Health') & \\\n",
        "              (df['YearStart'] == 2019) & \\\n",
        "              (df['Question'] == 'Health insurance coverage after pregnancy among women with a recent live birth') & \\\n",
        "              (df['DataValueType'] == 'Crude Prevalence') & \\\n",
        "              (df['StratificationCategory1'] == 'Overall')\n",
        "\n",
        "filtered_df = df.loc[conditions, ['YearStart', 'LocationDesc', 'Question', 'DataValue', 'StratificationCategory1']]\n",
        "health_ins_birth_df = filtered_df.sort_values(by='DataValue').nsmallest(5, 'DataValue')"
      ],
      "metadata": {
        "id": "wwFwwmBPpvfi"
      },
      "execution_count": 137,
      "outputs": []
    },
    {
      "cell_type": "code",
      "source": [
        "conditions = (df['Topic'] == 'Social Determinants of Health') & \\\n",
        "              (df['YearStart'] == 2019) & \\\n",
        "              (df['Question'] == 'Living below 150% of the poverty threshold among all people') & \\\n",
        "              (df['DataValueType'] == 'Crude Prevalence') & \\\n",
        "              (df['StratificationCategory1'] == 'Overall')\n",
        "\n",
        "filtered_df = df.loc[conditions, ['YearStart', 'LocationDesc', 'Question', 'DataValue', 'StratificationCategory1']]\n",
        "below_poverty_df = filtered_df.sort_values(by='DataValue').nlargest(5, 'DataValue')"
      ],
      "metadata": {
        "id": "L11WO9Byi6ML"
      },
      "execution_count": 136,
      "outputs": []
    },
    {
      "cell_type": "code",
      "source": [
        "conditions = (df['Topic'] == 'Social Determinants of Health') & \\\n",
        "              (df['YearStart'] == 2019) & \\\n",
        "              (df['Question'] == 'Routine checkup within the past year among adults') & \\\n",
        "              (df['DataValueType'] == 'Crude Prevalence') & \\\n",
        "              (df['StratificationCategory1'] == 'Overall')\n",
        "\n",
        "filtered_df = df.loc[conditions, ['YearStart', 'LocationDesc', 'Question', 'DataValue', 'StratificationCategory1']]\n",
        "checkup_df = filtered_df.sort_values(by='DataValue').nsmallest(5, 'DataValue')"
      ],
      "metadata": {
        "id": "VGsM_vv8pTdz"
      },
      "execution_count": 135,
      "outputs": []
    },
    {
      "cell_type": "code",
      "source": [
        "conditions = (df['Topic'] == 'Social Determinants of Health') & \\\n",
        "              (df['YearStart'] == 2019) & \\\n",
        "              (df['Question'] == 'High school completion among adults aged 18-24') & \\\n",
        "              (df['StratificationCategory1'] == 'Overall')\n",
        "\n",
        "filtered_df = df.loc[conditions, ['YearStart', 'LocationDesc', 'Topic', 'Question', 'DataValue']]\n",
        "finish_hs_df = filtered_df.sort_values(by='DataValue').nsmallest(5, 'DataValue')"
      ],
      "metadata": {
        "id": "PjiXJKsCkWpp"
      },
      "execution_count": 134,
      "outputs": []
    },
    {
      "cell_type": "code",
      "source": [
        "conditions = (df['Topic'] == 'Social Determinants of Health') & \\\n",
        "              (df['YearStart'] == 2019) & \\\n",
        "              (df['Question'] == 'Unemployment rate among people 16 years and older in the labor force') & \\\n",
        "              (df['StratificationCategory1'] == 'Overall')\n",
        "\n",
        "filtered_df = df.loc[conditions, ['YearStart', 'LocationDesc', 'Topic', 'Question', 'DataValue']]\n",
        "unemployment_df = filtered_df.sort_values(by='DataValue').nlargest(5, 'DataValue')"
      ],
      "metadata": {
        "id": "zUCxHnWBmGmk"
      },
      "execution_count": 133,
      "outputs": []
    },
    {
      "cell_type": "code",
      "source": [
        "combined_df = pd.concat([unemployment_df, finish_hs_df, below_poverty_df, checkup_df, health_ins_birth_df, live_birth_df, internet_df, insecure_df, transportation_df, support_df, rent_df, health_ins_df])\n",
        "combined_counts = combined_df['LocationDesc'].value_counts()\n",
        "filtered_counts = combined_counts[combined_counts > 2]\n",
        "print(filtered_counts.count())"
      ],
      "metadata": {
        "colab": {
          "base_uri": "https://localhost:8080/"
        },
        "id": "i_PYhx3aoUZp",
        "outputId": "d68be8b0-0fc0-4689-f381-2a863b66a0ce"
      },
      "execution_count": 167,
      "outputs": [
        {
          "output_type": "stream",
          "name": "stdout",
          "text": [
            "9\n"
          ]
        }
      ]
    },
    {
      "cell_type": "code",
      "source": [
        "life_expectancy_df = pd.read_csv('life_expectancy.csv')\n",
        "state_mapping = {\n",
        "    'AL': 'Alabama',\n",
        "    'AK': 'Alaska',\n",
        "    'AZ': 'Arizona',\n",
        "    'AR': 'Arkansas',\n",
        "    'CA': 'California',\n",
        "    'CO': 'Colorado',\n",
        "    'CT': 'Connecticut',\n",
        "    'DE': 'Delaware',\n",
        "    'FL': 'Florida',\n",
        "    'GA': 'Georgia',\n",
        "    'HI': 'Hawaii',\n",
        "    'ID': 'Idaho',\n",
        "    'IL': 'Illinois',\n",
        "    'IN': 'Indiana',\n",
        "    'IA': 'Iowa',\n",
        "    'KS': 'Kansas',\n",
        "    'KY': 'Kentucky',\n",
        "    'LA': 'Louisiana',\n",
        "    'ME': 'Maine',\n",
        "    'MD': 'Maryland',\n",
        "    'MA': 'Massachusetts',\n",
        "    'MI': 'Michigan',\n",
        "    'MN': 'Minnesota',\n",
        "    'MS': 'Mississippi',\n",
        "    'MO': 'Missouri',\n",
        "    'MT': 'Montana',\n",
        "    'NE': 'Nebraska',\n",
        "    'NV': 'Nevada',\n",
        "    'NH': 'New Hampshire',\n",
        "    'NJ': 'New Jersey',\n",
        "    'NM': 'New Mexico',\n",
        "    'NY': 'New York',\n",
        "    'NC': 'North Carolina',\n",
        "    'ND': 'North Dakota',\n",
        "    'OH': 'Ohio',\n",
        "    'OK': 'Oklahoma',\n",
        "    'OR': 'Oregon',\n",
        "    'PA': 'Pennsylvania',\n",
        "    'RI': 'Rhode Island',\n",
        "    'SC': 'South Carolina',\n",
        "    'SD': 'South Dakota',\n",
        "    'TN': 'Tennessee',\n",
        "    'TX': 'Texas',\n",
        "    'UT': 'Utah',\n",
        "    'VT': 'Vermont',\n",
        "    'VA': 'Virginia',\n",
        "    'WA': 'Washington',\n",
        "    'WV': 'West Virginia',\n",
        "    'WI': 'Wisconsin',\n",
        "    'WY': 'Wyoming'\n",
        "}\n",
        "\n",
        "life_expectancy_df['STATE'] = life_expectancy_df['STATE'].map(state_mapping)\n",
        "life_expectancy_df = life_expectancy_df[life_expectancy_df['YEAR'] == 2019]\n",
        "life_expectancy_df.drop(columns=['URL'], inplace=True)\n",
        "\n",
        "print(life_expectancy_df.count())"
      ],
      "metadata": {
        "colab": {
          "base_uri": "https://localhost:8080/"
        },
        "id": "VcNZZGs-2e4S",
        "outputId": "a44df14f-347f-48d2-8f67-1bfa19f9ad7c"
      },
      "execution_count": 161,
      "outputs": [
        {
          "output_type": "stream",
          "name": "stdout",
          "text": [
            "YEAR     50\n",
            "STATE    50\n",
            "RATE     50\n",
            "dtype: int64\n"
          ]
        }
      ]
    },
    {
      "cell_type": "code",
      "source": [
        "sorted_df = life_expectancy_df.sort_values(by='RATE')\n",
        "lowest_values = sorted_df.head(10)\n",
        "print(lowest_values)"
      ],
      "metadata": {
        "colab": {
          "base_uri": "https://localhost:8080/"
        },
        "id": "SXtkZO8x25dD",
        "outputId": "d8f62ee6-8c46-41ea-9029-3e496f935b41"
      },
      "execution_count": 175,
      "outputs": [
        {
          "output_type": "stream",
          "name": "stdout",
          "text": [
            "    YEAR           STATE  RATE\n",
            "73  2019     Mississippi  74.4\n",
            "97  2019   West Virginia  74.5\n",
            "50  2019         Alabama  75.2\n",
            "66  2019        Kentucky  75.5\n",
            "91  2019       Tennessee  75.6\n",
            "53  2019        Arkansas  75.7\n",
            "85  2019        Oklahoma  75.7\n",
            "67  2019       Louisiana  75.7\n",
            "89  2019  South Carolina  76.8\n",
            "84  2019            Ohio  76.9\n"
          ]
        }
      ]
    },
    {
      "cell_type": "code",
      "source": [
        "merged_df = pd.merge(lowest_values, filtered_counts, left_on='STATE', right_index=True)\n",
        "\n",
        "print(merged_df)"
      ],
      "metadata": {
        "colab": {
          "base_uri": "https://localhost:8080/"
        },
        "id": "nfBt3XB33kWE",
        "outputId": "7af87c40-1299-4c8c-9292-659a44bb3937"
      },
      "execution_count": 166,
      "outputs": [
        {
          "output_type": "stream",
          "name": "stdout",
          "text": [
            "    YEAR          STATE  RATE  count\n",
            "73  2019    Mississippi  74.4     11\n",
            "97  2019  West Virginia  74.5      5\n",
            "53  2019       Arkansas  75.7      3\n",
            "67  2019      Louisiana  75.7      4\n"
          ]
        }
      ]
    },
    {
      "cell_type": "code",
      "source": [
        "import pandas as pd\n",
        "import matplotlib.pyplot as plt\n",
        "\n",
        "# Assuming you have filtered_counts and life_expectancy_df DataFrames\n",
        "# Replace these DataFrames with your actual DataFrames\n",
        "\n",
        "# Step 1: Create a bar plot for filtered counts\n",
        "plt.figure(figsize=(12, 8))\n",
        "plt.bar(filtered_counts.index, filtered_counts.values, label='Count')\n",
        "\n",
        "merged_df = pd.merge(life_expectancy_df, filtered_counts, left_on='STATE', right_index=True)\n",
        "plt.plot(merged_df['STATE'], merged_df['RATE'], color='red', marker='o', linestyle='-', linewidth=2, label='Rate')\n",
        "plt.xlabel('State')\n",
        "plt.ylabel('Count / Rate')\n",
        "plt.title('Count and Rate Comparison by State')\n",
        "plt.xticks(rotation=45)\n",
        "plt.legend()\n",
        "\n",
        "plt.tight_layout()\n",
        "plt.show()\n"
      ],
      "metadata": {
        "colab": {
          "base_uri": "https://localhost:8080/",
          "height": 691
        },
        "id": "l7vvBNcE49IV",
        "outputId": "8530392c-a949-47c5-96c2-10427fd75bb5"
      },
      "execution_count": 177,
      "outputs": [
        {
          "output_type": "display_data",
          "data": {
            "text/plain": [
              "<Figure size 1200x800 with 1 Axes>"
            ],
            "image/png": "[encoded data removed]"
          },
          "metadata": {}
        }
      ]
    }
  ]
}